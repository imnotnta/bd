{
 "cells": [
  {
   "cell_type": "code",
   "execution_count": 2,
   "metadata": {},
   "outputs": [
    {
     "name": "stdout",
     "output_type": "stream",
     "text": [
      "72830\n"
     ]
    }
   ],
   "source": [
    "import os\n",
    "import pickle\n",
    "all_files = os.listdir(\"crawled_data/all_users/\")\n",
    "all_users = []\n",
    "for file in all_files:\n",
    "    with open(\"crawled_data/all_users/\"+file, \"rb\") as f:\n",
    "        data = pickle.load(f)\n",
    "        all_users.extend(data)\n",
    "\n",
    "print(len(list(set(all_users))))"
   ]
  }
 ],
 "metadata": {
  "kernelspec": {
   "display_name": "Python 3",
   "language": "python",
   "name": "python3"
  },
  "language_info": {
   "codemirror_mode": {
    "name": "ipython",
    "version": 3
   },
   "file_extension": ".py",
   "mimetype": "text/x-python",
   "name": "python",
   "nbconvert_exporter": "python",
   "pygments_lexer": "ipython3",
   "version": "3.9.4"
  }
 },
 "nbformat": 4,
 "nbformat_minor": 2
}
