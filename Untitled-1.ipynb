{
 "cells": [
  {
   "cell_type": "code",
   "execution_count": 1,
   "metadata": {},
   "outputs": [
    {
     "name": "stdout",
     "output_type": "stream",
     "text": [
      "72830\n"
     ]
    }
   ],
   "source": [
    "import os\n",
    "import pickle\n",
    "all_files = os.listdir(\"crawled_data/all_users/\")\n",
    "all_users = []\n",
    "for file in all_files:\n",
    "    with open(\"crawled_data/all_users/\"+file, \"rb\") as f:\n",
    "        data = pickle.load(f)\n",
    "        all_users.extend(data)\n",
    "\n",
    "print(len(list(set(all_users))))"
   ]
  },
  {
   "cell_type": "code",
   "execution_count": 4,
   "metadata": {},
   "outputs": [
    {
     "data": {
      "text/plain": [
       "{'type': 'Person',\n",
       " 'name': 'Diedia',\n",
       " 'location': 'Italia',\n",
       " 'description': '🇮🇹😎🚀',\n",
       " 'date_created': '2021-10-11T10:06:04.000Z',\n",
       " 'num_followers': 7,\n",
       " 'num_following': 128,\n",
       " 'num_tweets': 6,\n",
       " 'job': 'NA',\n",
       " 'type_account': 'normal',\n",
       " 'protected': 'False',\n",
       " 'all_tweets': {'2022-02-07T21:35:49.000Z': {'repost': 'True',\n",
       "   'content': 'We are pleased to announce ISO Rewards will be claimable through  @ContactDrip @ContactDrip @ContactDrip  on March 1st!   Read more about the details below!  ',\n",
       "   'language': 'en',\n",
       "   'interacts': {'replies': 171,\n",
       "    'reposts': 528,\n",
       "    'likes': 2005,\n",
       "    'views': 0,\n",
       "    'bookmarks': 80}},\n",
       "  '2022-01-06T21:25:07.000Z': {'repost': 'True',\n",
       "   'content': \"Here's a video on how to earn multiple  #Cardano #Cardano  tokens at the same time from delegating to any  $ADA $ADA  stakepool!\\n\\nThe goal of this video is to further push people to remove their  $ADA $ADA  from exchanges to decentralize  #Cardano #Cardano !\\n\\nShare for the mission!\",\n",
       "   'language': 'en',\n",
       "   'interacts': {'replies': 10,\n",
       "    'reposts': 47,\n",
       "    'likes': 165,\n",
       "    'views': 0,\n",
       "    'bookmarks': 6}},\n",
       "  '2021-12-26T15:43:37.000Z': {'repost': 'True',\n",
       "   'content': 'Seasonal Greetings from the MuesliSwap Team!  To celebrate XMAS and a successful month as 1st DEX on Cardano Mainnet we want to give something back.\\n5 randomly selected winners among those who like and retweet this post within the next 24h will receive 100 SNOW tokens each  ',\n",
       "   'language': 'en',\n",
       "   'interacts': {'replies': 183,\n",
       "    'reposts': 1501,\n",
       "    'likes': 1917,\n",
       "    'views': 0,\n",
       "    'bookmarks': 1}},\n",
       "  '2021-12-26T14:23:31.000Z': {'repost': 'True',\n",
       "   'content': \"To celebrate the holidays I'm gonna give 500  $ADA $ADA  away to someone random who like/retweets this tweet. This is also a thank you. \\n\\nRemember, you never have to send  $ADA $ADA  to someone else to enter a giveaway.\\n\\nI hope the  #Cardano #Cardano  community is doing well. Stay safe everyone!\",\n",
       "   'language': 'en',\n",
       "   'interacts': {'replies': 217,\n",
       "    'reposts': 1755,\n",
       "    'likes': 2235,\n",
       "    'views': 0,\n",
       "    'bookmarks': 0}},\n",
       "  '2021-12-22T01:08:28.000Z': {'repost': 'True',\n",
       "   'content': 'I´m giving  $ADA $ADA  to the first 5000 people who follows and retweets!!',\n",
       "   'language': 'en',\n",
       "   'interacts': {'replies': 1726,\n",
       "    'reposts': 5528,\n",
       "    'likes': 4820,\n",
       "    'views': 0,\n",
       "    'bookmarks': 4}},\n",
       "  '2021-12-07T18:08:32.000Z': {'repost': 'True',\n",
       "   'content': '   ADA Handle Giveaway    The winner will receive 1 two-letter Handle of their choosing. Our pricing model prices two-letter handles at 500  $ADA $ADA  each.\\n\\nTo enter:\\n\\n1. Follow this account.\\n2. Like \\n3. Retweet\\n\\nWinner chosen randomly on December 10th. Good luck.',\n",
       "   'language': 'en',\n",
       "   'interacts': {'replies': 371,\n",
       "    'reposts': 3157,\n",
       "    'likes': 3737,\n",
       "    'views': 0,\n",
       "    'bookmarks': 8}}}}"
      ]
     },
     "execution_count": 4,
     "metadata": {},
     "output_type": "execute_result"
    }
   ],
   "source": [
    "with open(\"crawled_data/user_info/DeFi/Diedia18.pkl\", \"rb\") as f:\n",
    "    data = pickle.load(f)\n",
    "    \n",
    "data"
   ]
  }
 ],
 "metadata": {
  "kernelspec": {
   "display_name": "Python 3",
   "language": "python",
   "name": "python3"
  },
  "language_info": {
   "codemirror_mode": {
    "name": "ipython",
    "version": 3
   },
   "file_extension": ".py",
   "mimetype": "text/x-python",
   "name": "python",
   "nbconvert_exporter": "python",
   "pygments_lexer": "ipython3",
   "version": "3.9.4"
  }
 },
 "nbformat": 4,
 "nbformat_minor": 2
}
